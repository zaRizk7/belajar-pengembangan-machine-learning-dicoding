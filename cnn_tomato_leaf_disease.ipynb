{
  "nbformat": 4,
  "nbformat_minor": 0,
  "metadata": {
    "kernelspec": {
      "language": "python",
      "display_name": "Python 3",
      "name": "python3"
    },
    "language_info": {
      "name": "python",
      "version": "3.7.10",
      "mimetype": "text/x-python",
      "codemirror_mode": {
        "name": "ipython",
        "version": 3
      },
      "pygments_lexer": "ipython3",
      "nbconvert_exporter": "python",
      "file_extension": ".py"
    },
    "colab": {
      "name": "cnn-tomato-leaf-disease.ipynb",
      "provenance": []
    }
  },
  "cells": [
    {
      "cell_type": "code",
      "metadata": {
        "_uuid": "8f2839f25d086af736a60e9eeb907d3b93b6e0e5",
        "_cell_guid": "b1076dfc-b9ad-4769-8c92-a6c4dae69d19",
        "execution": {
          "iopub.status.busy": "2021-08-04T17:43:58.903508Z",
          "iopub.execute_input": "2021-08-04T17:43:58.904076Z",
          "iopub.status.idle": "2021-08-04T17:44:01.484013Z",
          "shell.execute_reply.started": "2021-08-04T17:43:58.903974Z",
          "shell.execute_reply": "2021-08-04T17:44:01.482767Z"
        },
        "trusted": true,
        "id": "cIvkb1VwYEkb"
      },
      "source": [
        "# This Python 3 environment comes with many helpful analytics libraries installed\n",
        "# It is defined by the kaggle/python Docker image: https://github.com/kaggle/docker-python\n",
        "# For example, here's several helpful packages to load\n",
        "\n",
        "import numpy as np # linear algebra\n",
        "import pandas as pd # data processing, CSV file I/O (e.g. pd.read_csv)\n",
        "import tensorflow as tf # Deep learning library\n",
        "import tensorflow_addons as tfa # Additional libraries for TensorFlow\n",
        "import matplotlib.pyplot as plt # Visualization\n",
        "\n",
        "# Input data files are available in the read-only \"../input/\" directory\n",
        "# For example, running this (by clicking run or pressing Shift+Enter) will list all files under the input directory\n",
        "\n",
        "#import os\n",
        "#for dirname, _, filenames in os.walk('/kaggle/input'):\n",
        "#    for filename in filenames:\n",
        "#        print(os.path.join(dirname, filename))\n",
        "\n",
        "# You can write up to 20GB to the current directory (/kaggle/working/) that gets preserved as output when you create a version using \"Save & Run All\" \n",
        "# You can also write temporary files to /kaggle/temp/, but they won't be saved outside of the current session"
      ],
      "execution_count": null,
      "outputs": []
    },
    {
      "cell_type": "code",
      "metadata": {
        "execution": {
          "iopub.status.busy": "2021-08-04T17:44:01.486978Z",
          "iopub.execute_input": "2021-08-04T17:44:01.487324Z",
          "iopub.status.idle": "2021-08-04T17:44:02.552384Z",
          "shell.execute_reply.started": "2021-08-04T17:44:01.487292Z",
          "shell.execute_reply": "2021-08-04T17:44:02.550901Z"
        },
        "trusted": true,
        "id": "BpGbxA87YEkd",
        "outputId": "0497157c-993b-4f7d-9661-b5312e916d99"
      },
      "source": [
        "image_data_generator = tf.keras.preprocessing.image.ImageDataGenerator(\n",
        "    rotation_range=20,\n",
        "    width_shift_range=0.2,\n",
        "    height_shift_range=0.2,\n",
        "    horizontal_flip=True,\n",
        "    validation_split=0.2,\n",
        "    rescale=1/255\n",
        ")\n",
        "\n",
        "train = image_data_generator.flow_from_directory(\n",
        "    directory='../input/tomatoleaf/tomato/train', \n",
        "    class_mode='categorical',\n",
        "    batch_size=32,\n",
        "    target_size=(128, 128),\n",
        "    color_mode='rgb',\n",
        "    subset='training'\n",
        ")\n",
        "\n",
        "val = image_data_generator.flow_from_directory(\n",
        "    directory='../input/tomatoleaf/tomato/train', \n",
        "    class_mode='categorical',\n",
        "    batch_size=32,\n",
        "    target_size=(128, 128),\n",
        "    color_mode='rgb',\n",
        "    subset='validation'\n",
        ")\n",
        "\n",
        "test = image_data_generator.flow_from_directory(\n",
        "    directory='../input/tomatoleaf/tomato/val', \n",
        "    class_mode='categorical',\n",
        "    batch_size=32,\n",
        "    target_size=(128, 128),\n",
        "    color_mode='rgb'\n",
        ")"
      ],
      "execution_count": null,
      "outputs": [
        {
          "output_type": "stream",
          "text": [
            "Found 8000 images belonging to 10 classes.\n",
            "Found 2000 images belonging to 10 classes.\n",
            "Found 1000 images belonging to 10 classes.\n"
          ],
          "name": "stdout"
        }
      ]
    },
    {
      "cell_type": "code",
      "metadata": {
        "execution": {
          "iopub.status.busy": "2021-08-04T17:44:02.554809Z",
          "iopub.execute_input": "2021-08-04T17:44:02.555359Z",
          "iopub.status.idle": "2021-08-04T17:44:02.566276Z",
          "shell.execute_reply.started": "2021-08-04T17:44:02.555316Z",
          "shell.execute_reply": "2021-08-04T17:44:02.564750Z"
        },
        "trusted": true,
        "id": "xPYAruq7YEke"
      },
      "source": [
        "def generate_convolution(i):\n",
        "    conv2d = tf.keras.layers.Conv2D(\n",
        "        2**(i+5), \n",
        "        (3, 3), \n",
        "        activation=tf.keras.activations.swish, \n",
        "        name=f'conv2d_{i+1}'\n",
        "    )\n",
        "    batchnorm = tf.keras.layers.BatchNormalization(name=f'batchnorm_{i+1}')\n",
        "    maxpool2d = tf.keras.layers.MaxPool2D(2, 2, name=f'maxpool2d_{i+1}')\n",
        "    return [conv2d, batchnorm, maxpool2d]\n",
        "\n",
        "def generate_dense(i):\n",
        "    dense = tf.keras.layers.Dense(2**(9-i), name=f'dense_{i+1}')\n",
        "    dropout = tf.keras.layers.Dropout(0.5, name=f'dropout_{i+1}')\n",
        "    return [dense, dropout]"
      ],
      "execution_count": null,
      "outputs": []
    },
    {
      "cell_type": "code",
      "metadata": {
        "execution": {
          "iopub.status.busy": "2021-08-04T17:44:02.568579Z",
          "iopub.execute_input": "2021-08-04T17:44:02.569345Z",
          "iopub.status.idle": "2021-08-04T17:44:03.994012Z",
          "shell.execute_reply.started": "2021-08-04T17:44:02.569281Z",
          "shell.execute_reply": "2021-08-04T17:44:03.992938Z"
        },
        "trusted": true,
        "id": "A4npzMsCYEkf",
        "outputId": "89cecee3-9563-4af1-ad22-f47e6c3c3b39"
      },
      "source": [
        "model = tf.keras.models.Sequential([\n",
        "    tf.keras.layers.Input((128, 128, 3), name='input'),\n",
        "    *[x for i in range(4) for x in generate_convolution(i)],\n",
        "    tf.keras.layers.Flatten(name='flatten'),\n",
        "    *[x for i in range(4) for x in generate_dense(i)],\n",
        "    tf.keras.layers.Dense(10, activation='softmax', name='classifier')\n",
        "], 'image_classifier')\n",
        "\n",
        "model.compile(\n",
        "    loss=tf.keras.losses.CategoricalCrossentropy(from_logits=True),\n",
        "    metrics=[tf.keras.metrics.CategoricalAccuracy(),\n",
        "            tfa.metrics.F1Score(10, 'macro')],\n",
        "    optimizer=tf.keras.optimizers.Adam(1e-3)\n",
        ")\n",
        "\n",
        "model.summary()"
      ],
      "execution_count": null,
      "outputs": [
        {
          "output_type": "stream",
          "text": [
            "Model: \"image_classifier\"\n",
            "_________________________________________________________________\n",
            "Layer (type)                 Output Shape              Param #   \n",
            "=================================================================\n",
            "conv2d_1 (Conv2D)            (None, 126, 126, 32)      896       \n",
            "_________________________________________________________________\n",
            "batchnorm_1 (BatchNormalizat (None, 126, 126, 32)      128       \n",
            "_________________________________________________________________\n",
            "maxpool2d_1 (MaxPooling2D)   (None, 63, 63, 32)        0         \n",
            "_________________________________________________________________\n",
            "conv2d_2 (Conv2D)            (None, 61, 61, 64)        18496     \n",
            "_________________________________________________________________\n",
            "batchnorm_2 (BatchNormalizat (None, 61, 61, 64)        256       \n",
            "_________________________________________________________________\n",
            "maxpool2d_2 (MaxPooling2D)   (None, 30, 30, 64)        0         \n",
            "_________________________________________________________________\n",
            "conv2d_3 (Conv2D)            (None, 28, 28, 128)       73856     \n",
            "_________________________________________________________________\n",
            "batchnorm_3 (BatchNormalizat (None, 28, 28, 128)       512       \n",
            "_________________________________________________________________\n",
            "maxpool2d_3 (MaxPooling2D)   (None, 14, 14, 128)       0         \n",
            "_________________________________________________________________\n",
            "conv2d_4 (Conv2D)            (None, 12, 12, 256)       295168    \n",
            "_________________________________________________________________\n",
            "batchnorm_4 (BatchNormalizat (None, 12, 12, 256)       1024      \n",
            "_________________________________________________________________\n",
            "maxpool2d_4 (MaxPooling2D)   (None, 6, 6, 256)         0         \n",
            "_________________________________________________________________\n",
            "flatten (Flatten)            (None, 9216)              0         \n",
            "_________________________________________________________________\n",
            "dense_1 (Dense)              (None, 512)               4719104   \n",
            "_________________________________________________________________\n",
            "dropout_1 (Dropout)          (None, 512)               0         \n",
            "_________________________________________________________________\n",
            "dense_2 (Dense)              (None, 256)               131328    \n",
            "_________________________________________________________________\n",
            "dropout_2 (Dropout)          (None, 256)               0         \n",
            "_________________________________________________________________\n",
            "dense_3 (Dense)              (None, 128)               32896     \n",
            "_________________________________________________________________\n",
            "dropout_3 (Dropout)          (None, 128)               0         \n",
            "_________________________________________________________________\n",
            "dense_4 (Dense)              (None, 64)                8256      \n",
            "_________________________________________________________________\n",
            "dropout_4 (Dropout)          (None, 64)                0         \n",
            "_________________________________________________________________\n",
            "classifier (Dense)           (None, 10)                650       \n",
            "=================================================================\n",
            "Total params: 5,282,570\n",
            "Trainable params: 5,281,610\n",
            "Non-trainable params: 960\n",
            "_________________________________________________________________\n"
          ],
          "name": "stdout"
        }
      ]
    },
    {
      "cell_type": "code",
      "metadata": {
        "execution": {
          "iopub.status.busy": "2021-08-04T17:44:03.997758Z",
          "iopub.execute_input": "2021-08-04T17:44:03.998112Z",
          "iopub.status.idle": "2021-08-04T18:10:02.373380Z",
          "shell.execute_reply.started": "2021-08-04T17:44:03.998082Z",
          "shell.execute_reply": "2021-08-04T18:10:02.372189Z"
        },
        "trusted": true,
        "id": "_-_IcvYMYEkg",
        "outputId": "0e769f70-f924-4813-894b-59a5ef7a695c"
      },
      "source": [
        "history = model.fit(\n",
        "    train,\n",
        "    epochs=50,\n",
        "    validation_data=val,\n",
        "    callbacks=[\n",
        "        tf.keras.callbacks.EarlyStopping(\n",
        "            patience=5, \n",
        "            restore_best_weights=True\n",
        "        ), \n",
        "        tf.keras.callbacks.ReduceLROnPlateau(\n",
        "            patience=2\n",
        "        )\n",
        "    ]\n",
        ")"
      ],
      "execution_count": null,
      "outputs": [
        {
          "output_type": "stream",
          "text": [
            "Epoch 1/50\n",
            "250/250 [==============================] - 63s 241ms/step - loss: 51.2576 - categorical_accuracy: 0.2312 - f1_score: 0.2257 - val_loss: 65.9062 - val_categorical_accuracy: 0.1150 - val_f1_score: 0.0378\n",
            "Epoch 2/50\n",
            "250/250 [==============================] - 59s 238ms/step - loss: 22.2643 - categorical_accuracy: 0.3562 - f1_score: 0.3498 - val_loss: 36.8617 - val_categorical_accuracy: 0.1250 - val_f1_score: 0.0640\n",
            "Epoch 3/50\n",
            "250/250 [==============================] - 60s 240ms/step - loss: 11.0450 - categorical_accuracy: 0.4178 - f1_score: 0.4092 - val_loss: 10.0605 - val_categorical_accuracy: 0.3715 - val_f1_score: 0.3824\n",
            "Epoch 4/50\n",
            "250/250 [==============================] - 60s 239ms/step - loss: 5.8695 - categorical_accuracy: 0.4632 - f1_score: 0.4572 - val_loss: 1.8603 - val_categorical_accuracy: 0.6685 - val_f1_score: 0.6629\n",
            "Epoch 5/50\n",
            "250/250 [==============================] - 60s 239ms/step - loss: 3.3001 - categorical_accuracy: 0.5209 - f1_score: 0.5145 - val_loss: 3.9880 - val_categorical_accuracy: 0.4990 - val_f1_score: 0.4865\n",
            "Epoch 6/50\n",
            "250/250 [==============================] - 59s 238ms/step - loss: 2.2457 - categorical_accuracy: 0.5520 - f1_score: 0.5447 - val_loss: 1.3908 - val_categorical_accuracy: 0.6510 - val_f1_score: 0.6550\n",
            "Epoch 7/50\n",
            "250/250 [==============================] - 60s 242ms/step - loss: 1.6253 - categorical_accuracy: 0.5863 - f1_score: 0.5822 - val_loss: 3.2147 - val_categorical_accuracy: 0.5460 - val_f1_score: 0.5506\n",
            "Epoch 8/50\n",
            "250/250 [==============================] - 60s 242ms/step - loss: 1.2339 - categorical_accuracy: 0.6369 - f1_score: 0.6330 - val_loss: 0.8147 - val_categorical_accuracy: 0.7435 - val_f1_score: 0.7344\n",
            "Epoch 9/50\n",
            "250/250 [==============================] - 61s 243ms/step - loss: 1.0206 - categorical_accuracy: 0.6848 - f1_score: 0.6799 - val_loss: 0.6313 - val_categorical_accuracy: 0.7970 - val_f1_score: 0.7923\n",
            "Epoch 10/50\n",
            "250/250 [==============================] - 59s 235ms/step - loss: 0.8796 - categorical_accuracy: 0.7085 - f1_score: 0.7064 - val_loss: 0.8745 - val_categorical_accuracy: 0.7240 - val_f1_score: 0.7235\n",
            "Epoch 11/50\n",
            "250/250 [==============================] - 59s 238ms/step - loss: 0.8431 - categorical_accuracy: 0.7190 - f1_score: 0.7168 - val_loss: 1.1374 - val_categorical_accuracy: 0.6560 - val_f1_score: 0.6426\n",
            "Epoch 12/50\n",
            "250/250 [==============================] - 59s 237ms/step - loss: 0.7550 - categorical_accuracy: 0.7544 - f1_score: 0.7522 - val_loss: 0.3360 - val_categorical_accuracy: 0.8880 - val_f1_score: 0.8868\n",
            "Epoch 13/50\n",
            "250/250 [==============================] - 60s 240ms/step - loss: 0.6233 - categorical_accuracy: 0.7938 - f1_score: 0.7936 - val_loss: 0.3233 - val_categorical_accuracy: 0.8895 - val_f1_score: 0.8890\n",
            "Epoch 14/50\n",
            "250/250 [==============================] - 60s 240ms/step - loss: 0.5668 - categorical_accuracy: 0.8057 - f1_score: 0.8052 - val_loss: 0.3111 - val_categorical_accuracy: 0.8915 - val_f1_score: 0.8901\n",
            "Epoch 15/50\n",
            "250/250 [==============================] - 60s 238ms/step - loss: 0.5910 - categorical_accuracy: 0.7996 - f1_score: 0.7981 - val_loss: 0.2817 - val_categorical_accuracy: 0.9085 - val_f1_score: 0.9088\n",
            "Epoch 16/50\n",
            "250/250 [==============================] - 61s 242ms/step - loss: 0.5577 - categorical_accuracy: 0.8109 - f1_score: 0.8096 - val_loss: 0.3037 - val_categorical_accuracy: 0.8985 - val_f1_score: 0.8981\n",
            "Epoch 17/50\n",
            "250/250 [==============================] - 60s 241ms/step - loss: 0.5589 - categorical_accuracy: 0.8185 - f1_score: 0.8168 - val_loss: 0.3205 - val_categorical_accuracy: 0.8850 - val_f1_score: 0.8844\n",
            "Epoch 18/50\n",
            "250/250 [==============================] - 60s 242ms/step - loss: 0.5042 - categorical_accuracy: 0.8308 - f1_score: 0.8305 - val_loss: 0.2392 - val_categorical_accuracy: 0.9280 - val_f1_score: 0.9277\n",
            "Epoch 19/50\n",
            "250/250 [==============================] - 60s 239ms/step - loss: 0.5106 - categorical_accuracy: 0.8272 - f1_score: 0.8262 - val_loss: 0.2448 - val_categorical_accuracy: 0.9200 - val_f1_score: 0.9196\n",
            "Epoch 20/50\n",
            "250/250 [==============================] - 60s 239ms/step - loss: 0.5096 - categorical_accuracy: 0.8294 - f1_score: 0.8284 - val_loss: 0.2399 - val_categorical_accuracy: 0.9300 - val_f1_score: 0.9300\n",
            "Epoch 21/50\n",
            "250/250 [==============================] - 60s 241ms/step - loss: 0.5070 - categorical_accuracy: 0.8287 - f1_score: 0.8287 - val_loss: 0.2279 - val_categorical_accuracy: 0.9295 - val_f1_score: 0.9292\n",
            "Epoch 22/50\n",
            "250/250 [==============================] - 60s 242ms/step - loss: 0.4894 - categorical_accuracy: 0.8345 - f1_score: 0.8327 - val_loss: 0.2354 - val_categorical_accuracy: 0.9245 - val_f1_score: 0.9244\n",
            "Epoch 23/50\n",
            "250/250 [==============================] - 59s 237ms/step - loss: 0.4815 - categorical_accuracy: 0.8330 - f1_score: 0.8299 - val_loss: 0.2326 - val_categorical_accuracy: 0.9310 - val_f1_score: 0.9309\n",
            "Epoch 24/50\n",
            "250/250 [==============================] - 59s 238ms/step - loss: 0.4795 - categorical_accuracy: 0.8368 - f1_score: 0.8345 - val_loss: 0.2369 - val_categorical_accuracy: 0.9310 - val_f1_score: 0.9307\n",
            "Epoch 25/50\n",
            "250/250 [==============================] - 58s 234ms/step - loss: 0.4728 - categorical_accuracy: 0.8404 - f1_score: 0.8396 - val_loss: 0.2369 - val_categorical_accuracy: 0.9235 - val_f1_score: 0.9230\n",
            "Epoch 26/50\n",
            "250/250 [==============================] - 59s 238ms/step - loss: 0.5044 - categorical_accuracy: 0.8387 - f1_score: 0.8380 - val_loss: 0.2299 - val_categorical_accuracy: 0.9305 - val_f1_score: 0.9304\n"
          ],
          "name": "stdout"
        }
      ]
    },
    {
      "cell_type": "code",
      "metadata": {
        "execution": {
          "iopub.status.busy": "2021-08-04T18:10:02.375690Z",
          "iopub.execute_input": "2021-08-04T18:10:02.376245Z",
          "iopub.status.idle": "2021-08-04T18:10:13.552435Z",
          "shell.execute_reply.started": "2021-08-04T18:10:02.376195Z",
          "shell.execute_reply": "2021-08-04T18:10:13.551276Z"
        },
        "trusted": true,
        "id": "Pj7_vvyKYEkg",
        "outputId": "c5d5e86d-41d8-4802-c013-fbd7080cfa1c"
      },
      "source": [
        "eval_result = model.evaluate(test)\n",
        "tflite_converter = tf.lite.TFLiteConverter.from_keras_model(model)\n",
        "model_tflite = tflite_converter.convert()\n",
        "with tf.io.gfile.GFile('model.tflite', 'wb') as f:\n",
        "    f.write(model_tflite)\n",
        "    f.close()"
      ],
      "execution_count": null,
      "outputs": [
        {
          "output_type": "stream",
          "text": [
            "32/32 [==============================] - 6s 187ms/step - loss: 0.2772 - categorical_accuracy: 0.9120 - f1_score: 0.9119\n"
          ],
          "name": "stdout"
        }
      ]
    },
    {
      "cell_type": "code",
      "metadata": {
        "execution": {
          "iopub.status.busy": "2021-08-04T18:10:13.554315Z",
          "iopub.execute_input": "2021-08-04T18:10:13.554753Z",
          "iopub.status.idle": "2021-08-04T18:10:14.086877Z",
          "shell.execute_reply.started": "2021-08-04T18:10:13.554697Z",
          "shell.execute_reply": "2021-08-04T18:10:14.085558Z"
        },
        "trusted": true,
        "id": "yPvJ0hWTYEkh",
        "outputId": "b28d0197-e665-411e-af31-ff8aae50198e"
      },
      "source": [
        "plt.style.use('ggplot')\n",
        "fig, (ax1, ax2, ax3) = plt.subplots(nrows=3, ncols=1)\n",
        "fig.suptitle('Training Result')\n",
        "ax1.plot(history.history['loss'], 'o-', label='Train')\n",
        "ax1.plot(history.history['val_loss'], 'o--', label='Validation')\n",
        "ax1.set_xlabel('Epoch')\n",
        "ax1.set_ylabel('Loss')\n",
        "ax1.legend()\n",
        "ax2.plot(history.history['categorical_accuracy'], 'o-', label='Train')\n",
        "ax2.plot(history.history['val_categorical_accuracy'], 'o--', label='Validation')\n",
        "ax2.set_xlabel('Epoch')\n",
        "ax2.set_ylabel('Accuracy')\n",
        "ax2.legend()\n",
        "ax3.plot(history.history['f1_score'], 'o-', label='Train')\n",
        "ax3.plot(history.history['val_f1_score'], 'o--', label='Validation')\n",
        "ax3.set_xlabel('Epoch')\n",
        "ax3.set_ylabel('F1-Score')\n",
        "ax3.legend()\n",
        "fig.show()"
      ],
      "execution_count": null,
      "outputs": [
        {
          "output_type": "display_data",
          "data": {
            "text/plain": [
              "<Figure size 432x288 with 3 Axes>"
            ],
            "image/png": "[encoded data removed]"
          },
          "metadata": {
            "tags": []
          }
        }
      ]
    }
  ]
}