{
  "nbformat": 4,
  "nbformat_minor": 0,
  "metadata": {
    "kernelspec": {
      "language": "python",
      "display_name": "Python 3",
      "name": "python3"
    },
    "language_info": {
      "name": "python",
      "version": "3.7.10",
      "mimetype": "text/x-python",
      "codemirror_mode": {
        "name": "ipython",
        "version": 3
      },
      "pygments_lexer": "ipython3",
      "nbconvert_exporter": "python",
      "file_extension": ".py"
    },
    "colab": {
      "name": "LSTM_NEWS_CLASSIFICATION.ipynb",
      "provenance": []
    }
  },
  "cells": [
    {
      "cell_type": "code",
      "metadata": {
        "_uuid": "8f2839f25d086af736a60e9eeb907d3b93b6e0e5",
        "_cell_guid": "b1076dfc-b9ad-4769-8c92-a6c4dae69d19",
        "execution": {
          "iopub.status.busy": "2021-08-04T10:02:32.466886Z",
          "iopub.execute_input": "2021-08-04T10:02:32.467256Z",
          "iopub.status.idle": "2021-08-04T10:02:35.098799Z",
          "shell.execute_reply.started": "2021-08-04T10:02:32.467178Z",
          "shell.execute_reply": "2021-08-04T10:02:35.097365Z"
        },
        "trusted": true,
        "id": "Fxb9WdMAvMbC",
        "outputId": "147e22c4-7218-4ba7-d313-df56c7de31b4"
      },
      "source": [
        "# This Python 3 environment comes with many helpful analytics libraries installed\n",
        "# It is defined by the kaggle/python Docker image: https://github.com/kaggle/docker-python\n",
        "# For example, here's several helpful packages to load\n",
        "\n",
        "import re # Regex\n",
        "import string # String manipulation\n",
        "import spacy # NLP tooling\n",
        "import numpy as np # linear algebra\n",
        "import pandas as pd # data processing, CSV file I/O (e.g. pd.read_csv)\n",
        "import tensorflow as tf # Deep learning\n",
        "import matplotlib.pyplot as plt # Visualization\n",
        "from sklearn.model_selection import train_test_split # Split train and validation set\n",
        "from sklearn.preprocessing import LabelEncoder # Encode label into numerical format\n",
        "\n",
        "# Input data files are available in the read-only \"../input/\" directory\n",
        "# For example, running this (by clicking run or pressing Shift+Enter) will list all files under the input directory\n",
        "\n",
        "import os\n",
        "for dirname, _, filenames in os.walk('/kaggle/input'):\n",
        "    for filename in filenames:\n",
        "        print(os.path.join(dirname, filename))\n",
        "\n",
        "# You can write up to 20GB to the current directory (/kaggle/working/) that gets preserved as output when you create a version using \"Save & Run All\" \n",
        "# You can also write temporary files to /kaggle/temp/, but they won't be saved outside of the current session"
      ],
      "execution_count": null,
      "outputs": [
        {
          "output_type": "stream",
          "text": [
            "/kaggle/input/ag-news-classification-dataset/train.csv\n",
            "/kaggle/input/ag-news-classification-dataset/test.csv\n"
          ],
          "name": "stdout"
        }
      ]
    },
    {
      "cell_type": "code",
      "metadata": {
        "execution": {
          "iopub.status.busy": "2021-08-04T10:02:35.100265Z",
          "iopub.execute_input": "2021-08-04T10:02:35.100619Z",
          "iopub.status.idle": "2021-08-04T10:02:36.471389Z",
          "shell.execute_reply.started": "2021-08-04T10:02:35.100582Z",
          "shell.execute_reply": "2021-08-04T10:02:36.470398Z"
        },
        "trusted": true,
        "id": "Un54HaNkvMbF",
        "outputId": "a7694361-7f46-4799-ae39-b58159ccdc24"
      },
      "source": [
        "nlp = spacy.load('en_core_web_sm', parser=False, entity=False)  \n",
        "df_train = pd.read_csv('../input/ag-news-classification-dataset/train.csv')\n",
        "df_test = pd.read_csv('../input/ag-news-classification-dataset/test.csv')\n",
        "df_train"
      ],
      "execution_count": null,
      "outputs": [
        {
          "output_type": "execute_result",
          "data": {
            "text/plain": [
              "        Class Index                                              Title  \\\n",
              "0                 3  Wall St. Bears Claw Back Into the Black (Reuters)   \n",
              "1                 3  Carlyle Looks Toward Commercial Aerospace (Reu...   \n",
              "2                 3    Oil and Economy Cloud Stocks' Outlook (Reuters)   \n",
              "3                 3  Iraq Halts Oil Exports from Main Southern Pipe...   \n",
              "4                 3  Oil prices soar to all-time record, posing new...   \n",
              "...             ...                                                ...   \n",
              "119995            1  Pakistan's Musharraf Says Won't Quit as Army C...   \n",
              "119996            2                  Renteria signing a top-shelf deal   \n",
              "119997            2                    Saban not going to Dolphins yet   \n",
              "119998            2                                  Today's NFL games   \n",
              "119999            2                       Nets get Carter from Raptors   \n",
              "\n",
              "                                              Description  \n",
              "0       Reuters - Short-sellers, Wall Street's dwindli...  \n",
              "1       Reuters - Private investment firm Carlyle Grou...  \n",
              "2       Reuters - Soaring crude prices plus worries\\ab...  \n",
              "3       Reuters - Authorities have halted oil export\\f...  \n",
              "4       AFP - Tearaway world oil prices, toppling reco...  \n",
              "...                                                   ...  \n",
              "119995   KARACHI (Reuters) - Pakistani President Perve...  \n",
              "119996  Red Sox general manager Theo Epstein acknowled...  \n",
              "119997  The Miami Dolphins will put their courtship of...  \n",
              "119998  PITTSBURGH at NY GIANTS Time: 1:30 p.m. Line: ...  \n",
              "119999  INDIANAPOLIS -- All-Star Vince Carter was trad...  \n",
              "\n",
              "[120000 rows x 3 columns]"
            ],
            "text/html": [
              "<div>\n",
              "<style scoped>\n",
              "    .dataframe tbody tr th:only-of-type {\n",
              "        vertical-align: middle;\n",
              "    }\n",
              "\n",
              "    .dataframe tbody tr th {\n",
              "        vertical-align: top;\n",
              "    }\n",
              "\n",
              "    .dataframe thead th {\n",
              "        text-align: right;\n",
              "    }\n",
              "</style>\n",
              "<table border=\"1\" class=\"dataframe\">\n",
              "  <thead>\n",
              "    <tr style=\"text-align: right;\">\n",
              "      <th></th>\n",
              "      <th>Class Index</th>\n",
              "      <th>Title</th>\n",
              "      <th>Description</th>\n",
              "    </tr>\n",
              "  </thead>\n",
              "  <tbody>\n",
              "    <tr>\n",
              "      <th>0</th>\n",
              "      <td>3</td>\n",
              "      <td>Wall St. Bears Claw Back Into the Black (Reuters)</td>\n",
              "      <td>Reuters - Short-sellers, Wall Street's dwindli...</td>\n",
              "    </tr>\n",
              "    <tr>\n",
              "      <th>1</th>\n",
              "      <td>3</td>\n",
              "      <td>Carlyle Looks Toward Commercial Aerospace (Reu...</td>\n",
              "      <td>Reuters - Private investment firm Carlyle Grou...</td>\n",
              "    </tr>\n",
              "    <tr>\n",
              "      <th>2</th>\n",
              "      <td>3</td>\n",
              "      <td>Oil and Economy Cloud Stocks' Outlook (Reuters)</td>\n",
              "      <td>Reuters - Soaring crude prices plus worries\\ab...</td>\n",
              "    </tr>\n",
              "    <tr>\n",
              "      <th>3</th>\n",
              "      <td>3</td>\n",
              "      <td>Iraq Halts Oil Exports from Main Southern Pipe...</td>\n",
              "      <td>Reuters - Authorities have halted oil export\\f...</td>\n",
              "    </tr>\n",
              "    <tr>\n",
              "      <th>4</th>\n",
              "      <td>3</td>\n",
              "      <td>Oil prices soar to all-time record, posing new...</td>\n",
              "      <td>AFP - Tearaway world oil prices, toppling reco...</td>\n",
              "    </tr>\n",
              "    <tr>\n",
              "      <th>...</th>\n",
              "      <td>...</td>\n",
              "      <td>...</td>\n",
              "      <td>...</td>\n",
              "    </tr>\n",
              "    <tr>\n",
              "      <th>119995</th>\n",
              "      <td>1</td>\n",
              "      <td>Pakistan's Musharraf Says Won't Quit as Army C...</td>\n",
              "      <td>KARACHI (Reuters) - Pakistani President Perve...</td>\n",
              "    </tr>\n",
              "    <tr>\n",
              "      <th>119996</th>\n",
              "      <td>2</td>\n",
              "      <td>Renteria signing a top-shelf deal</td>\n",
              "      <td>Red Sox general manager Theo Epstein acknowled...</td>\n",
              "    </tr>\n",
              "    <tr>\n",
              "      <th>119997</th>\n",
              "      <td>2</td>\n",
              "      <td>Saban not going to Dolphins yet</td>\n",
              "      <td>The Miami Dolphins will put their courtship of...</td>\n",
              "    </tr>\n",
              "    <tr>\n",
              "      <th>119998</th>\n",
              "      <td>2</td>\n",
              "      <td>Today's NFL games</td>\n",
              "      <td>PITTSBURGH at NY GIANTS Time: 1:30 p.m. Line: ...</td>\n",
              "    </tr>\n",
              "    <tr>\n",
              "      <th>119999</th>\n",
              "      <td>2</td>\n",
              "      <td>Nets get Carter from Raptors</td>\n",
              "      <td>INDIANAPOLIS -- All-Star Vince Carter was trad...</td>\n",
              "    </tr>\n",
              "  </tbody>\n",
              "</table>\n",
              "<p>120000 rows × 3 columns</p>\n",
              "</div>"
            ]
          },
          "metadata": {
            "tags": []
          },
          "execution_count": 2
        }
      ]
    },
    {
      "cell_type": "code",
      "metadata": {
        "execution": {
          "iopub.status.busy": "2021-08-04T10:02:36.473375Z",
          "iopub.execute_input": "2021-08-04T10:02:36.473792Z",
          "iopub.status.idle": "2021-08-04T10:02:45.823707Z",
          "shell.execute_reply.started": "2021-08-04T10:02:36.473751Z",
          "shell.execute_reply": "2021-08-04T10:02:45.822728Z"
        },
        "trusted": true,
        "id": "w1SBGpPwvMbG"
      },
      "source": [
        "def clean_text(text):\n",
        "    regex_html = re.compile('<.*?>|&([a-z0-9]+|#[0-9]{1,6}|#x[0-9a-f]{1,6});')\n",
        "    remove_digits = str.maketrans('', '', string.digits + string.punctuation)\n",
        "    text = re.sub(regex_html, '', text)\n",
        "    text = text.translate(remove_digits)\n",
        "    return ' '.join(re.sub(\"(@[A-Za-z0-9]+)|([^0-9A-Za-z \\t])|(\\w+:\\/\\/\\S+)\", \" \", text).split()).lower()\n",
        "\n",
        "df_train['text'] = (df_train.Title + \" \" + df_train.Description).apply(clean_text)\n",
        "#\\.apply(nlp).apply(lambda x: \" \".join(token.lemma_ for token in x if not token.is_stop).lower())\n",
        "df_test['text'] = (df_test.Title + \" \" + df_test.Description).apply(clean_text)\n",
        "#\\.apply(nlp).apply(lambda x: \" \".join(token.lemma_ for token in x if not token.is_stop).lower())"
      ],
      "execution_count": null,
      "outputs": []
    },
    {
      "cell_type": "code",
      "metadata": {
        "execution": {
          "iopub.status.busy": "2021-08-04T10:02:45.825577Z",
          "iopub.execute_input": "2021-08-04T10:02:45.825965Z",
          "iopub.status.idle": "2021-08-04T10:02:45.961037Z",
          "shell.execute_reply.started": "2021-08-04T10:02:45.825925Z",
          "shell.execute_reply": "2021-08-04T10:02:45.960172Z"
        },
        "trusted": true,
        "id": "hed0pz-hvMbH"
      },
      "source": [
        "le = LabelEncoder().fit(df_train['Class Index'])\n",
        "df_train['label'] = le.transform(df_train['Class Index'])\n",
        "df_test['label'] = le.transform(df_test['Class Index'])\n",
        "train, val = train_test_split(df_train, test_size=0.2, random_state=42, stratify=df_train.label)"
      ],
      "execution_count": null,
      "outputs": []
    },
    {
      "cell_type": "code",
      "metadata": {
        "execution": {
          "iopub.status.busy": "2021-08-04T10:02:45.962230Z",
          "iopub.execute_input": "2021-08-04T10:02:45.962607Z",
          "iopub.status.idle": "2021-08-04T10:02:45.982006Z",
          "shell.execute_reply.started": "2021-08-04T10:02:45.962570Z",
          "shell.execute_reply": "2021-08-04T10:02:45.980531Z"
        },
        "trusted": true,
        "id": "vydrg5dGvMbH",
        "outputId": "21698cd5-c962-4916-a879-b5a6c094d74a"
      },
      "source": [
        "df_train[['text', 'label']]"
      ],
      "execution_count": null,
      "outputs": [
        {
          "output_type": "execute_result",
          "data": {
            "text/plain": [
              "                                                     text  label\n",
              "0       wall st bears claw back into the black reuters...      2\n",
              "1       carlyle looks toward commercial aerospace reut...      2\n",
              "2       oil and economy cloud stocks outlook reuters r...      2\n",
              "3       iraq halts oil exports from main southern pipe...      2\n",
              "4       oil prices soar to alltime record posing new m...      2\n",
              "...                                                   ...    ...\n",
              "119995  pakistans musharraf says wont quit as army chi...      0\n",
              "119996  renteria signing a topshelf deal red sox gener...      1\n",
              "119997  saban not going to dolphins yet the miami dolp...      1\n",
              "119998  todays nfl games pittsburgh at ny giants time ...      1\n",
              "119999  nets get carter from raptors indianapolis alls...      1\n",
              "\n",
              "[120000 rows x 2 columns]"
            ],
            "text/html": [
              "<div>\n",
              "<style scoped>\n",
              "    .dataframe tbody tr th:only-of-type {\n",
              "        vertical-align: middle;\n",
              "    }\n",
              "\n",
              "    .dataframe tbody tr th {\n",
              "        vertical-align: top;\n",
              "    }\n",
              "\n",
              "    .dataframe thead th {\n",
              "        text-align: right;\n",
              "    }\n",
              "</style>\n",
              "<table border=\"1\" class=\"dataframe\">\n",
              "  <thead>\n",
              "    <tr style=\"text-align: right;\">\n",
              "      <th></th>\n",
              "      <th>text</th>\n",
              "      <th>label</th>\n",
              "    </tr>\n",
              "  </thead>\n",
              "  <tbody>\n",
              "    <tr>\n",
              "      <th>0</th>\n",
              "      <td>wall st bears claw back into the black reuters...</td>\n",
              "      <td>2</td>\n",
              "    </tr>\n",
              "    <tr>\n",
              "      <th>1</th>\n",
              "      <td>carlyle looks toward commercial aerospace reut...</td>\n",
              "      <td>2</td>\n",
              "    </tr>\n",
              "    <tr>\n",
              "      <th>2</th>\n",
              "      <td>oil and economy cloud stocks outlook reuters r...</td>\n",
              "      <td>2</td>\n",
              "    </tr>\n",
              "    <tr>\n",
              "      <th>3</th>\n",
              "      <td>iraq halts oil exports from main southern pipe...</td>\n",
              "      <td>2</td>\n",
              "    </tr>\n",
              "    <tr>\n",
              "      <th>4</th>\n",
              "      <td>oil prices soar to alltime record posing new m...</td>\n",
              "      <td>2</td>\n",
              "    </tr>\n",
              "    <tr>\n",
              "      <th>...</th>\n",
              "      <td>...</td>\n",
              "      <td>...</td>\n",
              "    </tr>\n",
              "    <tr>\n",
              "      <th>119995</th>\n",
              "      <td>pakistans musharraf says wont quit as army chi...</td>\n",
              "      <td>0</td>\n",
              "    </tr>\n",
              "    <tr>\n",
              "      <th>119996</th>\n",
              "      <td>renteria signing a topshelf deal red sox gener...</td>\n",
              "      <td>1</td>\n",
              "    </tr>\n",
              "    <tr>\n",
              "      <th>119997</th>\n",
              "      <td>saban not going to dolphins yet the miami dolp...</td>\n",
              "      <td>1</td>\n",
              "    </tr>\n",
              "    <tr>\n",
              "      <th>119998</th>\n",
              "      <td>todays nfl games pittsburgh at ny giants time ...</td>\n",
              "      <td>1</td>\n",
              "    </tr>\n",
              "    <tr>\n",
              "      <th>119999</th>\n",
              "      <td>nets get carter from raptors indianapolis alls...</td>\n",
              "      <td>1</td>\n",
              "    </tr>\n",
              "  </tbody>\n",
              "</table>\n",
              "<p>120000 rows × 2 columns</p>\n",
              "</div>"
            ]
          },
          "metadata": {
            "tags": []
          },
          "execution_count": 5
        }
      ]
    },
    {
      "cell_type": "code",
      "metadata": {
        "execution": {
          "iopub.status.busy": "2021-08-04T10:02:45.985244Z",
          "iopub.execute_input": "2021-08-04T10:02:45.985531Z",
          "iopub.status.idle": "2021-08-04T10:02:55.262269Z",
          "shell.execute_reply.started": "2021-08-04T10:02:45.985493Z",
          "shell.execute_reply": "2021-08-04T10:02:55.261360Z"
        },
        "trusted": true,
        "id": "5LzQmkxEvMbH"
      },
      "source": [
        "tokenizer = tf.keras.preprocessing.text.Tokenizer(num_words=8192, oov_token='-')\n",
        "tokenizer.fit_on_texts(train.text)\n",
        "\n",
        "x_train = tf.keras.preprocessing.sequence.pad_sequences(\n",
        "    tokenizer.texts_to_sequences(train.text), \n",
        "    maxlen=128, \n",
        "    padding='post', \n",
        "    truncating='post'\n",
        ")\n",
        "x_val = tf.keras.preprocessing.sequence.pad_sequences(\n",
        "    tokenizer.texts_to_sequences(val.text), \n",
        "    maxlen=128, \n",
        "    padding='post', \n",
        "    truncating='post'\n",
        ")\n",
        "x_test = tf.keras.preprocessing.sequence.pad_sequences(\n",
        "    tokenizer.texts_to_sequences(df_test.text), \n",
        "    maxlen=128, \n",
        "    padding='post', \n",
        "    truncating='post'\n",
        ")\n",
        "\n",
        "y_train = train.label\n",
        "y_val = val.label\n",
        "y_test = df_test.label"
      ],
      "execution_count": null,
      "outputs": []
    },
    {
      "cell_type": "code",
      "metadata": {
        "execution": {
          "iopub.status.busy": "2021-08-04T10:02:55.266498Z",
          "iopub.execute_input": "2021-08-04T10:02:55.268440Z",
          "iopub.status.idle": "2021-08-04T10:02:57.355235Z",
          "shell.execute_reply.started": "2021-08-04T10:02:55.268402Z",
          "shell.execute_reply": "2021-08-04T10:02:57.354294Z"
        },
        "trusted": true,
        "id": "v2GqPMupvMbI",
        "outputId": "2fc361d4-baf5-40b2-cc36-0c6587ecd4aa"
      },
      "source": [
        "model = tf.keras.Sequential([\n",
        "    tf.keras.layers.Input((64,)),\n",
        "    tf.keras.layers.Embedding(input_dim=len(tokenizer.word_index), output_dim=64),\n",
        "    tf.keras.layers.Bidirectional(tf.keras.layers.LSTM(128, return_sequences=True)),\n",
        "    tf.keras.layers.GlobalMaxPool1D(),\n",
        "    tf.keras.layers.Dense(256, activation='relu'),\n",
        "    tf.keras.layers.Dropout(0.5),\n",
        "    tf.keras.layers.Dense(len(set(df_train.label)), activation='softmax')\n",
        "])\n",
        "\n",
        "model.compile(\n",
        "    loss='sparse_categorical_crossentropy', \n",
        "    optimizer='adam', \n",
        "    metrics=['accuracy']\n",
        ")\n",
        "\n",
        "model.summary()"
      ],
      "execution_count": null,
      "outputs": [
        {
          "output_type": "stream",
          "text": [
            "Model: \"sequential\"\n",
            "_________________________________________________________________\n",
            "Layer (type)                 Output Shape              Param #   \n",
            "=================================================================\n",
            "embedding (Embedding)        (None, 64, 64)            5251840   \n",
            "_________________________________________________________________\n",
            "bidirectional (Bidirectional (None, 64, 256)           197632    \n",
            "_________________________________________________________________\n",
            "global_max_pooling1d (Global (None, 256)               0         \n",
            "_________________________________________________________________\n",
            "dense (Dense)                (None, 256)               65792     \n",
            "_________________________________________________________________\n",
            "dropout (Dropout)            (None, 256)               0         \n",
            "_________________________________________________________________\n",
            "dense_1 (Dense)              (None, 4)                 1028      \n",
            "=================================================================\n",
            "Total params: 5,516,292\n",
            "Trainable params: 5,516,292\n",
            "Non-trainable params: 0\n",
            "_________________________________________________________________\n"
          ],
          "name": "stdout"
        }
      ]
    },
    {
      "cell_type": "code",
      "metadata": {
        "execution": {
          "iopub.status.busy": "2021-08-04T10:02:57.359014Z",
          "iopub.execute_input": "2021-08-04T10:02:57.359304Z",
          "iopub.status.idle": "2021-08-04T10:23:37.215758Z",
          "shell.execute_reply.started": "2021-08-04T10:02:57.359275Z",
          "shell.execute_reply": "2021-08-04T10:23:37.214797Z"
        },
        "trusted": true,
        "id": "iRFrpevtvMbJ",
        "outputId": "19f86cb7-7e35-4d56-efa2-8053d16cdf0a"
      },
      "source": [
        "history = model.fit(\n",
        "    x_train, \n",
        "    y_train, \n",
        "    epochs=50, \n",
        "    validation_data=(x_val, y_val),\n",
        "    batch_size=32,\n",
        "    callbacks=[tf.keras.callbacks.EarlyStopping(\n",
        "        patience=5, \n",
        "        restore_best_weights=True,\n",
        "    ), tf.keras.callbacks.ReduceLROnPlateau(\n",
        "        monitor='val_loss',\n",
        "        patience=2\n",
        "    )]\n",
        ")"
      ],
      "execution_count": null,
      "outputs": [
        {
          "output_type": "stream",
          "text": [
            "Epoch 1/50\n",
            "3000/3000 [==============================] - 181s 59ms/step - loss: 0.5285 - accuracy: 0.7888 - val_loss: 0.2549 - val_accuracy: 0.9129\n",
            "Epoch 2/50\n",
            "3000/3000 [==============================] - 174s 58ms/step - loss: 0.2231 - accuracy: 0.9255 - val_loss: 0.2409 - val_accuracy: 0.9160\n",
            "Epoch 3/50\n",
            "3000/3000 [==============================] - 178s 59ms/step - loss: 0.1829 - accuracy: 0.9364 - val_loss: 0.2492 - val_accuracy: 0.9168\n",
            "Epoch 4/50\n",
            "3000/3000 [==============================] - 177s 59ms/step - loss: 0.1451 - accuracy: 0.9474 - val_loss: 0.2815 - val_accuracy: 0.9143\n",
            "Epoch 5/50\n",
            "3000/3000 [==============================] - 177s 59ms/step - loss: 0.0963 - accuracy: 0.9653 - val_loss: 0.3149 - val_accuracy: 0.9146\n",
            "Epoch 6/50\n",
            "3000/3000 [==============================] - 178s 59ms/step - loss: 0.0801 - accuracy: 0.9708 - val_loss: 0.3496 - val_accuracy: 0.9134\n",
            "Epoch 7/50\n",
            "3000/3000 [==============================] - 176s 59ms/step - loss: 0.0638 - accuracy: 0.9763 - val_loss: 0.3588 - val_accuracy: 0.9137\n"
          ],
          "name": "stdout"
        }
      ]
    },
    {
      "cell_type": "code",
      "metadata": {
        "execution": {
          "iopub.status.busy": "2021-08-04T10:23:37.217567Z",
          "iopub.execute_input": "2021-08-04T10:23:37.217924Z",
          "iopub.status.idle": "2021-08-04T10:23:39.555553Z",
          "shell.execute_reply.started": "2021-08-04T10:23:37.217886Z",
          "shell.execute_reply": "2021-08-04T10:23:39.554777Z"
        },
        "trusted": true,
        "id": "bUbjn3uHvMbJ",
        "outputId": "1baff234-5ecd-4ee1-d767-f9cbb66292d6"
      },
      "source": [
        "eval_result = model.evaluate(x_test, y_test)"
      ],
      "execution_count": null,
      "outputs": [
        {
          "output_type": "stream",
          "text": [
            "238/238 [==============================] - 2s 7ms/step - loss: 0.2520 - accuracy: 0.9157\n"
          ],
          "name": "stdout"
        }
      ]
    },
    {
      "cell_type": "code",
      "metadata": {
        "execution": {
          "iopub.status.busy": "2021-08-04T10:23:39.557056Z",
          "iopub.execute_input": "2021-08-04T10:23:39.557391Z",
          "iopub.status.idle": "2021-08-04T10:23:39.889982Z",
          "shell.execute_reply.started": "2021-08-04T10:23:39.557356Z",
          "shell.execute_reply": "2021-08-04T10:23:39.889051Z"
        },
        "trusted": true,
        "id": "fYhkrmPQvMbK",
        "outputId": "1c992a7e-f0c2-436b-f52e-bc5d47233655"
      },
      "source": [
        "plt.style.use('ggplot')\n",
        "fig, (ax1, ax2) = plt.subplots(nrows=2, ncols=1)\n",
        "fig.suptitle('Training Result')\n",
        "ax1.plot(history.history['loss'], 'o-', label='Train')\n",
        "ax1.plot(history.history['val_loss'], 'o--', label='Validation')\n",
        "ax1.set_xlabel('Epoch')\n",
        "ax1.set_ylabel('Loss')\n",
        "ax1.legend()\n",
        "ax2.plot(history.history['accuracy'], 'o-', label='Train')\n",
        "ax2.plot(history.history['val_accuracy'], 'o--', label='Validation')\n",
        "ax2.set_xlabel('Epoch')\n",
        "ax2.set_ylabel('Accuracy')\n",
        "ax2.legend()"
      ],
      "execution_count": null,
      "outputs": [
        {
          "output_type": "execute_result",
          "data": {
            "text/plain": [
              "<matplotlib.legend.Legend at 0x7fbcbc180290>"
            ]
          },
          "metadata": {
            "tags": []
          },
          "execution_count": 10
        },
        {
          "output_type": "display_data",
          "data": {
            "text/plain": [
              "<Figure size 432x288 with 2 Axes>"
            ],
            "image/png": "[encoded data removed]"
          },
          "metadata": {
            "tags": []
          }
        }
      ]
    }
  ]
}